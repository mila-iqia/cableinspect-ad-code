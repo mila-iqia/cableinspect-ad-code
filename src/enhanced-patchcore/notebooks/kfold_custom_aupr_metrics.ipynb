{
 "cells": [
  {
   "cell_type": "code",
   "execution_count": null,
   "id": "55048fd8-72e9-48de-9536-ca17814d92c0",
   "metadata": {},
   "outputs": [],
   "source": [
    "# Copyright (C) 2024 Mila - Institut québécois d'intelligence artificielle\n",
    "# SPDX-License-Identifier: Apache-2.0"
   ]
  },
  {
   "cell_type": "code",
   "execution_count": null,
   "id": "3059391d-ab42-4138-aba3-b05508bb3b1a",
   "metadata": {},
   "outputs": [],
   "source": [
    "# This notebook permits to visualize the custom metrics AUPR and F1\n",
    "# where precision is at the image level and recall at the ID level."
   ]
  },
  {
   "cell_type": "code",
   "execution_count": null,
   "id": "623a8a44-a3b0-41f9-b26d-63452c008302",
   "metadata": {},
   "outputs": [],
   "source": [
    "import glob\n",
    "import os\n",
    "import sys\n",
    "\n",
    "import pandas as pd\n",
    "import tqdm\n",
    "\n",
    "sys.path.append(\"../\")\n",
    "from utils import compute_aupr_and_f1, plot_distribution_per_group\n",
    "\n",
    "%matplotlib inline"
   ]
  },
  {
   "cell_type": "code",
   "execution_count": null,
   "id": "56e3633c-b36d-45cf-ab33-24a0192d6882",
   "metadata": {},
   "outputs": [],
   "source": [
    "# To adapt\n",
    "root_directory = os.path.join(os.environ[\"HOME\"])"
   ]
  },
  {
   "cell_type": "code",
   "execution_count": null,
   "id": "97175a59-f6ca-43ff-9037-5d9b230de523",
   "metadata": {},
   "outputs": [],
   "source": [
    "cables = [\"C01\", \"C02\", \"C03\"]\n",
    "metrics_lst = [\"AUPR\", \"F1Score\"]\n",
    "metrics_dict = {cable: {k: [] for k in metrics_lst} for cable in cables}\n",
    "for cable in cables:\n",
    "    experiment_directory = os.path.join(root_directory, f\"results/patchcore/hq/hq_kfold_unsupervised_{cable}\")\n",
    "    runs_directories = glob.glob(f\"{experiment_directory}/*/\")\n",
    "    for run_directory in tqdm.tqdm(runs_directories):\n",
    "        # Load ids level predictions\n",
    "        pred_fname = os.path.join(run_directory, \"test_image_predictions.csv\")\n",
    "        if not os.path.isfile(pred_fname):\n",
    "            print(f\"Broken run: {run_directory}\")\n",
    "            continue\n",
    "        pred = pd.read_csv(pred_fname)\n",
    "        # Load ids level predictions\n",
    "        pred_ids_level_fname = os.path.join(run_directory, \"test_identification_predictions.csv\")\n",
    "        pred_ids_level = pd.read_csv(pred_ids_level_fname)\n",
    "        # Get image threshold\n",
    "        normalization_stats = pd.read_csv(os.path.join(run_directory, \"normalization_stats.csv\"))\n",
    "        threshold = round(normalization_stats[\"image_threshold\"].values[0], 6)\n",
    "        # Compute metrics\n",
    "        aupr, f1_score = compute_aupr_and_f1(\n",
    "            pred[\"target\"],\n",
    "            pred[\"anomaly_score\"],\n",
    "            pred_ids_level[\"target\"],\n",
    "            pred_ids_level[\"anomaly_score\"],\n",
    "            threshold,\n",
    "            recall_level=\"ID\",\n",
    "            precision_level=\"image\",\n",
    "        )\n",
    "        metrics_dict[cable][\"AUPR\"].append(aupr)\n",
    "        metrics_dict[cable][\"F1Score\"].append(f1_score)"
   ]
  },
  {
   "cell_type": "code",
   "execution_count": null,
   "id": "1b2a9a03-2f6d-4bcb-a8a4-40b06652a773",
   "metadata": {},
   "outputs": [],
   "source": [
    "df = None\n",
    "cables = sorted(metrics_dict.keys())\n",
    "for cable in cables:\n",
    "    if df is None:\n",
    "        df = pd.DataFrame(metrics_dict[cable])\n",
    "        df[\"cable\"] = cable\n",
    "    else:\n",
    "        temp_df = pd.DataFrame(metrics_dict[cable])\n",
    "        temp_df[\"cable\"] = cable\n",
    "        df = pd.concat([df, temp_df], ignore_index=True)"
   ]
  },
  {
   "cell_type": "code",
   "execution_count": null,
   "id": "42409748-eb5d-4b9e-af26-b804c1005986",
   "metadata": {},
   "outputs": [],
   "source": [
    "mapping_cable = {\"C01\": \"Cable 1\", \"C02\": \"Cable 2\", \"C03\": \"Cable 3\"}\n",
    "df[\"cable\"].replace(mapping_cable, inplace=True)"
   ]
  },
  {
   "cell_type": "code",
   "execution_count": null,
   "id": "e7966e97-b9e5-4689-97e2-be0c7999f658",
   "metadata": {},
   "outputs": [],
   "source": [
    "# Metrics test set (multiple folds)\\n (Precision image level and Recall ID level)\n",
    "# AUPR and F1 score with precision image level and recall ID level\n",
    "# Possible options: \"F1Score\", \"AUPR\"\n",
    "metric = \"AUPR\"\n",
    "ylim = {\"ymax\": 1.0, \"ymin\": 0.85}\n",
    "plot_distribution_per_group(\n",
    "    df,\n",
    "    \"cable\",\n",
    "    [metric],\n",
    "    \"\",  # \"Cable ID (# of folds)\"\n",
    "    metric,\n",
    "    title=\"\",  # f\"{metric} test set (multiple folds)\\n (Precision image level and Recall ID level)\"\n",
    "    ylim=ylim,\n",
    ")"
   ]
  }
 ],
 "metadata": {
  "kernelspec": {
   "display_name": "Python 3 (ipykernel)",
   "language": "python",
   "name": "python3"
  },
  "language_info": {
   "codemirror_mode": {
    "name": "ipython",
    "version": 3
   },
   "file_extension": ".py",
   "mimetype": "text/x-python",
   "name": "python",
   "nbconvert_exporter": "python",
   "pygments_lexer": "ipython3",
   "version": "3.10.11"
  }
 },
 "nbformat": 4,
 "nbformat_minor": 5
}
