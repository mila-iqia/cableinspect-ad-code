{
 "cells": [
  {
   "cell_type": "code",
   "execution_count": null,
   "id": "55b3fac7-1bf6-4a79-a10a-48ffe71077fc",
   "metadata": {},
   "outputs": [],
   "source": [
    "# Copyright (C) 2022 Mila - Institut québécois d'intelligence artificielle\n",
    "# SPDX-License-Identifier: Apache-2.0"
   ]
  },
  {
   "cell_type": "code",
   "execution_count": null,
   "id": "efb64146-d463-4f27-a8b2-e500facf519b",
   "metadata": {},
   "outputs": [],
   "source": [
    "# This notebook permits to visualize the labels and their statistics for\n",
    "# the tight crop and tight crop imagette dataset."
   ]
  },
  {
   "cell_type": "code",
   "execution_count": null,
   "id": "391ebac2-7d3c-44ee-9c81-a0b060bc74b9",
   "metadata": {},
   "outputs": [],
   "source": [
    "import os\n",
    "\n",
    "from collections import Counter\n",
    "\n",
    "import matplotlib.patches as mpatches\n",
    "import matplotlib.pyplot as plt\n",
    "import numpy as np\n",
    "import pandas as pd\n",
    "\n",
    "from anomalib.data.utils import read_image\n",
    "\n",
    "%matplotlib inline"
   ]
  },
  {
   "cell_type": "code",
   "execution_count": null,
   "id": "71ffc357",
   "metadata": {},
   "outputs": [],
   "source": [
    "# To adapt\n",
    "root_directory = os.environ[\"HOME\"]"
   ]
  },
  {
   "cell_type": "code",
   "execution_count": null,
   "id": "9b6069c9-d294-4ba6-9dab-111e544d9210",
   "metadata": {
    "tags": []
   },
   "outputs": [],
   "source": [
    "# Load labels\n",
    "data_dir = os.path.join(root_directory, \"CableInspect-AD\")\n",
    "df = pd.read_csv(os.path.join(data_dir, \"labels.csv\"))\n",
    "# Add cable_side_ids and cable_side_pass_ids columns\n",
    "df[\"cable_side_ids\"] = df[\"cable_id\"] + \"-\" + df[\"side_id\"]\n",
    "df[\"cable_side_pass_ids\"] = df[\"cable_id\"] + \"-\" + df[\"side_id\"] + \"-\" + df[\"pass_id\"].astype(\"str\")"
   ]
  },
  {
   "cell_type": "code",
   "execution_count": null,
   "id": "e4ebb4b2",
   "metadata": {},
   "outputs": [],
   "source": [
    "# Define anomaly columns\n",
    "anomaly_columns = [\n",
    "    \"anomaly_type_id\",\n",
    "    \"anomaly_type\",\n",
    "    \"bbox_area\",\n",
    "    \"primary_identification\",\n",
    "    \"secondary_identification\",\n",
    "    \"anomaly_grade\",\n",
    "    \"identification\",\n",
    "    \"mask_path\",\n",
    "]"
   ]
  },
  {
   "cell_type": "code",
   "execution_count": null,
   "id": "514223f7",
   "metadata": {},
   "outputs": [],
   "source": [
    "# Print general informations about the labels dataset:\n",
    "# - Number of rows, columns;\n",
    "# - Information about the number of unique values per column and their values.\n",
    "print(f\"# of rows: {df.shape[0]}, # of columns: {df.shape[1]}\\n\")\n",
    "for col in df.columns.tolist():\n",
    "    print(col)\n",
    "    print(\"-\" * len(col))\n",
    "    print(f\"# unique values: {df[col].nunique()}\")\n",
    "    print(f\"unique values: {df[col].unique()}\")\n",
    "    print(\"\\n\")"
   ]
  },
  {
   "cell_type": "code",
   "execution_count": null,
   "id": "48780fa9",
   "metadata": {},
   "outputs": [],
   "source": [
    "# Show the first five rows of the labels dataframe\n",
    "df.head()"
   ]
  },
  {
   "cell_type": "code",
   "execution_count": null,
   "id": "987fa6ad",
   "metadata": {},
   "outputs": [],
   "source": [
    "# Isolate nominal examples using label_index\n",
    "df_nominal = df[df[\"label_index\"] == 0].copy()\n",
    "print(f\"Number of nominal images: {df_nominal['image_path'].nunique()}\")"
   ]
  },
  {
   "cell_type": "code",
   "execution_count": null,
   "id": "82759d1b",
   "metadata": {},
   "outputs": [],
   "source": [
    "# Check nominal images have no anomaly info (i.e. anomaly columns are all NaN)\n",
    "assert df_nominal.dropna(subset=anomaly_columns, how=\"all\").empty"
   ]
  },
  {
   "cell_type": "code",
   "execution_count": null,
   "id": "ccf12a9f",
   "metadata": {},
   "outputs": [],
   "source": [
    "# Print number of nominal images per cable\n",
    "cable_id = df_nominal[\"cable_id\"].unique()\n",
    "for cable in cable_id:\n",
    "    tmp_df = df_nominal[df_nominal[\"cable_id\"] == cable]\n",
    "    print(f\"{cable} - total # of nominal images: {len(tmp_df)}\")"
   ]
  },
  {
   "cell_type": "code",
   "execution_count": null,
   "id": "95421a54",
   "metadata": {},
   "outputs": [],
   "source": [
    "# Print number of nominal images per cable side\n",
    "for cable_side in df_nominal[\"cable_side_ids\"].unique():\n",
    "    df_cable = df_nominal[df_nominal[\"cable_side_ids\"] == cable_side]\n",
    "    nb_images = df_cable[\"image_path\"].nunique()\n",
    "    nb_unique_anomalies = df_cable[\"identification\"].nunique()\n",
    "    print(f\"{cable_side} - # nominal images: {nb_images}\")"
   ]
  },
  {
   "cell_type": "code",
   "execution_count": null,
   "id": "6555eda8",
   "metadata": {},
   "outputs": [],
   "source": [
    "# Print number of nominal images per cable side pass\n",
    "for cable_side_pass in sorted(df_nominal[\"cable_side_pass_ids\"].unique()):\n",
    "    df_cable = df_nominal[df_nominal[\"cable_side_pass_ids\"] == cable_side_pass]\n",
    "    nb_images = df_cable[\"image_path\"].nunique()\n",
    "    print(f\"{cable_side_pass} - # nominal images: {nb_images}\")"
   ]
  },
  {
   "cell_type": "code",
   "execution_count": null,
   "id": "07078f05",
   "metadata": {},
   "outputs": [],
   "source": [
    "# Bar plot showing the number of nominal frames per cable\n",
    "group = df_nominal.cable_id.value_counts()\n",
    "group.plot.bar(ylabel=\"Number of nominal frames\", xlabel=\"Cable id.\")\n",
    "plt.xticks(rotation=\"horizontal\")\n",
    "plt.xlabel(\"\")\n",
    "plt.show()"
   ]
  },
  {
   "cell_type": "code",
   "execution_count": null,
   "id": "b221e745",
   "metadata": {},
   "outputs": [],
   "source": [
    "# Bar plot showing the number of nominal frames per cable side\n",
    "group = df_nominal.groupby(\"cable_id\").side_id.value_counts().unstack()\n",
    "group.plot.bar(xlabel=\"Cable id.\", ylabel=\"Number of nominal frames\")\n",
    "plt.xticks(rotation=\"horizontal\")\n",
    "plt.xlabel(\"\")\n",
    "plt.legend(title=\"Side ID\")\n",
    "plt.show()"
   ]
  },
  {
   "cell_type": "code",
   "execution_count": null,
   "id": "86813cd0",
   "metadata": {},
   "outputs": [],
   "source": [
    "# Bar plot showing the number of nominal frames per cable pass\n",
    "group = df_nominal.groupby([\"cable_id\"]).pass_id.value_counts().unstack()\n",
    "group.plot.bar(xlabel=\"Cable id.\", ylabel=\"Number of nominal frames\")\n",
    "plt.xticks(rotation=\"horizontal\")\n",
    "plt.xlabel(\"\")\n",
    "plt.legend(title=\"Pass ID\")\n",
    "plt.show()"
   ]
  },
  {
   "cell_type": "code",
   "execution_count": null,
   "id": "6e8a4da2",
   "metadata": {},
   "outputs": [],
   "source": [
    "# Bar plot showing the number of nominal frames per cable side pass\n",
    "group = df_nominal.groupby([\"cable_id\", \"side_id\"]).pass_id.value_counts().unstack()\n",
    "ax = group.plot.bar(xlabel=\"(Cable id., Side id.)\", ylabel=\"Number of nominal frames\")\n",
    "xtickslabels = ax.get_xticklabels()\n",
    "xtickspos = ax.get_xticks()\n",
    "xtickslabels = [i.get_text().replace(\", \", \"-\")[1:-1] for i in xtickslabels]\n",
    "plt.xticks(rotation=\"horizontal\", ticks=xtickspos, labels=xtickslabels)\n",
    "plt.xlabel(\"\")\n",
    "plt.legend(title=\"Pass ID\")\n",
    "plt.show()"
   ]
  },
  {
   "cell_type": "code",
   "execution_count": null,
   "id": "f9c55cf5",
   "metadata": {},
   "outputs": [],
   "source": [
    "# Isolate anomalous samples using label index\n",
    "df_anomalous = df[df[\"label_index\"] == 1].copy()\n",
    "print(f\"Number of anomalous images: {df_anomalous['image_path'].nunique()}\")"
   ]
  },
  {
   "cell_type": "code",
   "execution_count": null,
   "id": "76f0d6e5-d15a-4e05-b662-8fdfe11a3139",
   "metadata": {},
   "outputs": [],
   "source": [
    "print(f\"Number of unique anomalies: {df_anomalous['identification'].nunique()}\")"
   ]
  },
  {
   "cell_type": "code",
   "execution_count": null,
   "id": "99cea40c-37b4-4c5d-9e00-e073efeb4845",
   "metadata": {},
   "outputs": [],
   "source": [
    "text = \"Number of anomalies fabricated (different from those that were already there on the cable)\"\n",
    "print(f\"{text}: {df_anomalous['primary_identification'].nunique() - 1}\")"
   ]
  },
  {
   "cell_type": "code",
   "execution_count": null,
   "id": "ea6812bb",
   "metadata": {},
   "outputs": [],
   "source": [
    "# Check if there is missing values for anomaly features\n",
    "assert df_anomalous.shape == df_anomalous.dropna(subset=anomaly_columns, how=\"any\").shape"
   ]
  },
  {
   "cell_type": "code",
   "execution_count": null,
   "id": "27ba0126",
   "metadata": {},
   "outputs": [],
   "source": [
    "# Print number of anomalous images and unique anomalies per cable\n",
    "for cable in df_anomalous[\"cable_id\"].unique():\n",
    "    df_cable = df_anomalous[df_anomalous[\"cable_id\"] == cable]\n",
    "    nb_images = df_cable[\"image_path\"].nunique()\n",
    "    nb_unique_anomalies = df_cable[\"identification\"].nunique()\n",
    "    print(f\"Cable: {cable} - # anomalous images {nb_images}, # unique anomalies {nb_unique_anomalies}\")"
   ]
  },
  {
   "cell_type": "code",
   "execution_count": null,
   "id": "ea6a9934",
   "metadata": {},
   "outputs": [],
   "source": [
    "# Print number of anomalous images and unique anomalies per cable side\n",
    "for cable_side in df_anomalous[\"cable_side_ids\"].unique():\n",
    "    df_cable = df_anomalous[df_anomalous[\"cable_side_ids\"] == cable_side]\n",
    "    nb_images = df_cable[\"image_path\"].nunique()\n",
    "    nb_unique_anomalies = df_cable[\"identification\"].nunique()\n",
    "    print(f\"{cable_side} - # anomalous images: {nb_images}; # unique anomalies: {nb_unique_anomalies}\")"
   ]
  },
  {
   "cell_type": "code",
   "execution_count": null,
   "id": "606f43ed",
   "metadata": {},
   "outputs": [],
   "source": [
    "# Print number of anomalous images and unique anomalies per cable side pass\n",
    "for cable_side_pass in sorted(df_anomalous[\"cable_side_pass_ids\"].unique()):\n",
    "    df_cable = df_anomalous[df_anomalous[\"cable_side_pass_ids\"] == cable_side_pass]\n",
    "    nb_images = df_cable[\"image_path\"].nunique()\n",
    "    nb_unique_anomalies = df_cable[\"identification\"].nunique()\n",
    "    print(f\"{cable_side_pass} - # anomalous images: {nb_images}; # unique anomalies: {nb_unique_anomalies}\")"
   ]
  },
  {
   "cell_type": "code",
   "execution_count": null,
   "id": "d2922246",
   "metadata": {},
   "outputs": [],
   "source": [
    "# Bar plot showing the number of frames per anomaly types\n",
    "group = df_anomalous.anomaly_type.value_counts()\n",
    "group.plot.bar(ylabel=\"Number of frames\", xlabel=\"Anomaly types\")\n",
    "plt.show()"
   ]
  },
  {
   "cell_type": "code",
   "execution_count": null,
   "id": "80a00a37",
   "metadata": {},
   "outputs": [],
   "source": [
    "# Bar plot showing the number of frames per anomaly types per cable\n",
    "group = df_anomalous.groupby(\"anomaly_type\").cable_id.value_counts().unstack()\n",
    "group.plot.bar(xlabel=\"Anomaly types\", ylabel=\"Number of frames\")\n",
    "plt.show()"
   ]
  },
  {
   "cell_type": "code",
   "execution_count": null,
   "id": "a04aaac0",
   "metadata": {
    "scrolled": true
   },
   "outputs": [],
   "source": [
    "# For each anomaly type\n",
    "# Bar plot showing the number of frames per anomaly grade per cable\n",
    "for anomaly_type in df_anomalous[\"anomaly_type\"].unique():\n",
    "    temp_df = df_anomalous[df_anomalous[\"anomaly_type\"] == anomaly_type]\n",
    "    group = temp_df.groupby(\"anomaly_grade\").cable_id.value_counts().unstack()\n",
    "    group.plot.bar(xlabel=anomaly_type, ylabel=\"Number of frames\")\n",
    "    plt.show()"
   ]
  },
  {
   "cell_type": "code",
   "execution_count": null,
   "id": "2c557c45",
   "metadata": {},
   "outputs": [],
   "source": [
    "# Print bounding  boxes  areas general statistics\n",
    "df[\"bbox_area\"].describe()"
   ]
  },
  {
   "cell_type": "code",
   "execution_count": null,
   "id": "aa889f74",
   "metadata": {
    "scrolled": true
   },
   "outputs": [],
   "source": [
    "# Visualize masks with anomaly on the border\n",
    "nb_border_pixel = 20  # To adapt: number of pixel to include in the border\n",
    "for idx, row in df_anomalous.iterrows():\n",
    "    img_path = os.path.join(data_dir, row[\"image_path\"])\n",
    "    img = read_image(img_path)\n",
    "    w, h, c = img.shape\n",
    "    mask_path = img_path.replace(\"images\", \"masks\")\n",
    "    mask = read_image(mask_path)\n",
    "\n",
    "    if mask.sum() != w * h * 255 * 3:\n",
    "        assert mask.min() == 0\n",
    "    else:\n",
    "        assert mask.min() == 255\n",
    "    assert mask.max() == 255\n",
    "\n",
    "    if mask[nb_border_pixel:-nb_border_pixel, nb_border_pixel:-nb_border_pixel].sum() == 0:\n",
    "        print(img_path)\n",
    "        print(mask_path)\n",
    "        print(mask.shape)\n",
    "        print(round(mask.sum() / 255 / c / (w * h), 3))\n",
    "        f, axarr = plt.subplots(1, 2)\n",
    "        axarr[0].imshow(img)\n",
    "        axarr[1].imshow(mask)\n",
    "        plt.title(f\"Bbox area: {row['bbox_area']}\")\n",
    "        plt.show()"
   ]
  },
  {
   "cell_type": "code",
   "execution_count": null,
   "id": "e9f775f0",
   "metadata": {},
   "outputs": [],
   "source": [
    "# Plot bounding boxes areas histograms per anomaly type\n",
    "# The histograms are normalized by the image size\n",
    "# Y-axis: Count\n",
    "# X-axis: Bounding box area (% of the image)\n",
    "df_anomalous.bbox_area.hist(by=df_anomalous[\"anomaly_type\"], figsize=(15, 15))\n",
    "plt.show()"
   ]
  },
  {
   "cell_type": "code",
   "execution_count": null,
   "id": "e8fc06dc",
   "metadata": {},
   "outputs": [],
   "source": [
    "# Define bins to use to plot the bounding boxes areas histograms\n",
    "bins = np.linspace(0, 1, 100 + 1, True)"
   ]
  },
  {
   "cell_type": "code",
   "execution_count": null,
   "id": "0d8d6343",
   "metadata": {},
   "outputs": [],
   "source": [
    "# Plot bounding boxes areas histograms per anomaly type\n",
    "fig, ax = plt.subplots(figsize=(8, 6))\n",
    "for anomaly_type in sorted(df_anomalous[\"anomaly_type\"].unique()):\n",
    "    data = df_anomalous[df_anomalous[\"anomaly_type\"] == anomaly_type]\n",
    "    plt.hist(data[\"bbox_area\"], bins=bins, alpha=0.5, label=anomaly_type)\n",
    "\n",
    "plt.xlabel(\"Bounding box area (% of the image)\")\n",
    "plt.ylabel(\"Count\")\n",
    "plt.legend(title=\"Anomaly type:\")\n",
    "\n",
    "ax.set_axisbelow(True)\n",
    "ax.minorticks_on()\n",
    "ax.grid(which=\"major\", linestyle=\"-\", linewidth=\"0.5\", color=\"grey\")\n",
    "ax.grid(which=\"minor\", linestyle=\":\", linewidth=\"0.5\", color=\"grey\")\n",
    "\n",
    "ax.set_xlim(-0.01, 1.01)\n",
    "\n",
    "plt.show()"
   ]
  },
  {
   "cell_type": "code",
   "execution_count": null,
   "id": "3ae54f46-900b-436f-a5a2-221037e254a4",
   "metadata": {
    "tags": []
   },
   "outputs": [],
   "source": [
    "def _find_nearest(lst, value):\n",
    "    \"\"\"Find nearest value in a list.\"\"\"\n",
    "    array = np.asarray(lst)\n",
    "    idx = (np.abs(array - value)).argmin()\n",
    "    return array[idx]"
   ]
  },
  {
   "cell_type": "code",
   "execution_count": null,
   "id": "665f20c5",
   "metadata": {
    "scrolled": true
   },
   "outputs": [],
   "source": [
    "# For each anomaly type\n",
    "# Plot bounding boxes areas histograms per anomaly grade\n",
    "for anomaly_type in sorted(df_anomalous[\"anomaly_type\"].unique()):\n",
    "    fig, ax = plt.subplots(figsize=(8, 6))\n",
    "    data = df_anomalous[df_anomalous[\"anomaly_type\"] == anomaly_type]\n",
    "    for anomaly_grade in data[\"anomaly_grade\"].unique():\n",
    "        data1 = data[data[\"anomaly_grade\"] == anomaly_grade]\n",
    "        plt.hist(data1[\"bbox_area\"], bins=bins, alpha=0.5, label=anomaly_grade)\n",
    "    plt.xlabel(\"Bounding box area (% of the image)\")\n",
    "    plt.ylabel(\"Count\")\n",
    "    plt.legend(title=\"Anomaly grade:\")\n",
    "    plt.title(anomaly_type)\n",
    "\n",
    "    ax.set_axisbelow(True)\n",
    "    ax.minorticks_on()\n",
    "    ax.grid(which=\"major\", linestyle=\"-\", linewidth=\"0.5\", color=\"grey\")\n",
    "    ax.grid(which=\"minor\", linestyle=\":\", linewidth=\"0.5\", color=\"grey\")\n",
    "\n",
    "    max_bbox_area = data[\"bbox_area\"].max()\n",
    "    xlim = _find_nearest(bins, max_bbox_area)\n",
    "    ax.set_xlim(-0.01, xlim + 0.02)\n",
    "\n",
    "    plt.show()"
   ]
  },
  {
   "cell_type": "code",
   "execution_count": null,
   "id": "899855c2",
   "metadata": {},
   "outputs": [],
   "source": [
    "# For each anomaly type and grade\n",
    "# Plot bounding boxes areas histograms per cable side\n",
    "for anomaly_type in sorted(df_anomalous[\"anomaly_type\"].unique()):\n",
    "    data = df_anomalous[df_anomalous[\"anomaly_type\"] == anomaly_type]\n",
    "    for anomaly_grade in data[\"anomaly_grade\"].unique():\n",
    "        fig, ax = plt.subplots(figsize=(8, 6))\n",
    "        data1 = data[data[\"anomaly_grade\"] == anomaly_grade]\n",
    "        cable_side_ids = [\"C01-A\", \"C01-B\", \"C02-A\", \"C02-B\", \"C03-A\", \"C03-B\"]\n",
    "        for cable_side in cable_side_ids:\n",
    "            data2 = data1[data1[\"cable_side_ids\"] == cable_side]\n",
    "            plt.hist(data2[\"bbox_area\"], bins=bins, alpha=0.5, label=cable_side)\n",
    "        plt.xlabel(\"Bounding box area (% of the image)\")\n",
    "        plt.ylabel(\"Count\")\n",
    "        plt.legend(title=\"Cable side ID:\")\n",
    "        plt.title(f\"{anomaly_type} - {anomaly_grade}\")\n",
    "\n",
    "        ax.set_axisbelow(True)\n",
    "        ax.minorticks_on()\n",
    "        ax.grid(which=\"major\", linestyle=\"-\", linewidth=\"0.5\", color=\"grey\")\n",
    "        ax.grid(which=\"minor\", linestyle=\":\", linewidth=\"0.5\", color=\"grey\")\n",
    "\n",
    "        max_bbox_area = data1[\"bbox_area\"].max()\n",
    "        xlim = _find_nearest(bins, max_bbox_area)\n",
    "        ax.set_xlim(-0.01, xlim + 0.02)\n",
    "\n",
    "        plt.show()"
   ]
  },
  {
   "cell_type": "code",
   "execution_count": null,
   "id": "149d1717",
   "metadata": {},
   "outputs": [],
   "source": [
    "# Print general informations about unique anomalies\n",
    "identification = df_anomalous[\"identification\"].unique().tolist()\n",
    "print(f\"# of unique anomalies: {len(identification)}\\n\")\n",
    "print(\"Anomalies unique identification:\")\n",
    "print(sorted(identification))"
   ]
  },
  {
   "cell_type": "code",
   "execution_count": null,
   "id": "3d7edfa2",
   "metadata": {},
   "outputs": [],
   "source": [
    "# For each unique anomaly print:\n",
    "# Id - cable - cable side - passes in which the anomaly appear -\n",
    "# anomaly type(s) - anomaly grade(s) - number of frame in which the anomaly appear\n",
    "#\n",
    "# Notes:\n",
    "# - An anomaly can have more than one part and thus can be tagged with different types and grades;\n",
    "# - An anomaly can be seen under different views which can make it looks like from different grades.\n",
    "for i in sorted(identification):\n",
    "    test = df_anomalous[df_anomalous[\"identification\"] == i]\n",
    "    cable_id = test[\"cable_id\"].unique().tolist()\n",
    "    side_id = test[\"side_id\"].unique().tolist()\n",
    "    pass_id = test[\"pass_id\"].unique().tolist()\n",
    "    anomaly_type = test[\"anomaly_type\"].unique().tolist()\n",
    "    anomaly_grade = test[\"anomaly_grade\"].unique().tolist()\n",
    "    nb_img = len(test[\"image_path\"].unique().tolist())\n",
    "    print(f\"Id: {i} - {cable_id} - {side_id} - {pass_id} - {anomaly_type} - {anomaly_grade} - {nb_img}\")"
   ]
  },
  {
   "cell_type": "code",
   "execution_count": null,
   "id": "d26868f1",
   "metadata": {},
   "outputs": [],
   "source": [
    "# Print general informations about handmade anomalies and already present anomalies.\n",
    "print(f\"# of created anomalies: {len([i for i in sorted(identification) if i[-2:] == '00'])}\")\n",
    "print(f\"# of already there anomalies: {len([i for i in sorted(identification) if i[-2:] != '00'])}\")"
   ]
  },
  {
   "cell_type": "code",
   "execution_count": null,
   "id": "7ca32bcf",
   "metadata": {},
   "outputs": [],
   "source": [
    "unique_anomalies = df_anomalous.drop_duplicates(subset=[\"side_id\", \"identification\", \"anomaly_type\", \"anomaly_grade\"])\n",
    "unique_anomalies.shape"
   ]
  },
  {
   "cell_type": "code",
   "execution_count": null,
   "id": "7a2a3a38",
   "metadata": {},
   "outputs": [],
   "source": [
    "# Bar plot of the number of unique anomalies per anomaly types\n",
    "# Note that they can be some duplicates since a unique anomaly ID can have more than one type and grade.\n",
    "# Also, in few cases the anomaly can appear in both sides of the cables.\n",
    "unique_anomalies.anomaly_type.value_counts().plot.bar(xlabel=\"Anomaly types\", ylabel=\"# of unique anomalies\")\n",
    "plt.show()"
   ]
  },
  {
   "cell_type": "code",
   "execution_count": null,
   "id": "a02ae1b6",
   "metadata": {},
   "outputs": [],
   "source": [
    "# Bar plot of the number of unique anomalies per anomaly types and cable side\n",
    "# Note that they can be some duplicates since a unique anomaly ID can have more than one type and grade.\n",
    "# Also, in few cases the anomaly can appear in both sides of the cables.\n",
    "ax = (\n",
    "    unique_anomalies.groupby(\"anomaly_type\")\n",
    "    .cable_side_ids.value_counts()\n",
    "    .unstack()\n",
    "    .plot.bar(width=0.8, xlabel=\"Anomaly types\", ylabel=\"# of unique anomalies\")\n",
    ")\n",
    "\n",
    "ax.set_axisbelow(True)\n",
    "ax.minorticks_on()\n",
    "ax.grid(which=\"major\", linestyle=\"-\", linewidth=\"0.5\", color=\"black\")\n",
    "ax.grid(which=\"minor\", linestyle=\":\", linewidth=\"0.5\", color=\"black\")\n",
    "\n",
    "plt.legend(title=\"Cable side ID\")\n",
    "plt.show()"
   ]
  },
  {
   "cell_type": "code",
   "execution_count": null,
   "id": "50ecf2ce",
   "metadata": {},
   "outputs": [],
   "source": [
    "def add_line(ax, xpos, ypos):\n",
    "    line = plt.Line2D([xpos, xpos], [ypos + 0.1, ypos], transform=ax.transAxes, color=\"black\", linewidth=0.9)\n",
    "    line.set_clip_on(False)\n",
    "    ax.add_line(line)\n",
    "\n",
    "\n",
    "font_size = 30\n",
    "plt.rcParams[\"font.family\"] = \"DeJavu Serif\"\n",
    "plt.rcParams[\"font.serif\"] = [\"Times New Roman\"]\n",
    "\n",
    "# Bar plot of the number of unique anomalies per anomaly type grade and cable side\n",
    "# Note that they can be some duplicates since a unique anomaly ID can have more than one type and grade.\n",
    "# Also, in few cases the anomaly can appear in both sides of the cables.\n",
    "ax = (\n",
    "    unique_anomalies.groupby([\"anomaly_type\", \"anomaly_grade\"])\n",
    "    .cable_side_ids.value_counts()\n",
    "    .unstack()\n",
    "    .plot.bar(width=0.8, xlabel=\"\", figsize=(25, 8), fontsize=font_size)\n",
    ")\n",
    "ax.set_xlim(-0.5, 15.5)\n",
    "\n",
    "\n",
    "xtickspos = ax.get_xticks()\n",
    "xtickslabels_first = [i.get_text().split(\", \")[1][0].upper() for i in ax.get_xticklabels()]\n",
    "xtickslabels_second = [i.get_text().split(\", \")[0][1:] for i in ax.get_xticklabels()]\n",
    "plt.xticks(rotation=\"horizontal\", ticks=xtickspos, labels=xtickslabels_first, fontsize=font_size)\n",
    "plt.ylabel(ylabel=\"# of unique anomalies\", fontsize=font_size)\n",
    "\n",
    "for pos in xtickspos:\n",
    "    plt.axvline(pos + 0.5, color=\"red\", ymin=0, ymax=30, linestyle=\"--\", alpha=0.3)\n",
    "\n",
    "scale = 1.0 / 16\n",
    "for i in range(17):\n",
    "    # print(i * scale)\n",
    "    add_line(ax, i * scale, -0.1)\n",
    "\n",
    "add_line(ax, 0.0, -0.2)\n",
    "ax.text(0.0625, -0.25, \"Bent \\nstrand\", ha=\"center\", transform=ax.transAxes, fontsize=font_size)\n",
    "add_line(ax, 0.125, -0.2)\n",
    "\n",
    "ax.text(\n",
    "    0.1875 - 0.5 * (0.1875 - 0.25),\n",
    "    -0.25,\n",
    "    \"Broken \\nstrands\",\n",
    "    ha=\"center\",\n",
    "    transform=ax.transAxes,\n",
    "    fontsize=font_size,\n",
    ")\n",
    "add_line(ax, 0.3125, -0.2)\n",
    "\n",
    "ax.text(0.375, -0.25, \"Crushed\", ha=\"center\", transform=ax.transAxes, fontsize=font_size)\n",
    "add_line(ax, 0.4375, -0.2)\n",
    "\n",
    "ax.text(0.5, -0.25, \"Deposit\", ha=\"center\", transform=ax.transAxes, fontsize=font_size)\n",
    "add_line(ax, 0.5625, -0.2)\n",
    "\n",
    "ax.text(0.625, -0.25, \"Long \\nscratches\", ha=\"center\", transform=ax.transAxes, fontsize=font_size)\n",
    "add_line(ax, 0.6875, -0.2)\n",
    "\n",
    "ax.text(0.75, -0.25, \"Spaced \\nstrands\", ha=\"center\", transform=ax.transAxes, fontsize=font_size)\n",
    "add_line(ax, 0.8125, -0.2)\n",
    "\n",
    "ax.text(\n",
    "    0.9375 - 0.5 * (1.0 - 0.9375),\n",
    "    -0.25,\n",
    "    \"Welded \\nstrands\",\n",
    "    ha=\"center\",\n",
    "    transform=ax.transAxes,\n",
    "    fontsize=font_size,\n",
    ")\n",
    "add_line(ax, 1.0, -0.2)\n",
    "\n",
    "ax.set_axisbelow(True)\n",
    "ax.minorticks_on()\n",
    "ax.tick_params(axis=\"x\", which=\"minor\", bottom=False)\n",
    "ax.yaxis.grid(which=\"major\", linestyle=\"-\", linewidth=\"0.5\", color=\"grey\")\n",
    "ax.yaxis.grid(which=\"minor\", linestyle=\":\", linewidth=\"0.5\", color=\"grey\")\n",
    "\n",
    "plt.legend(title=\"Cable side ID\", fontsize=font_size, title_fontsize=font_size)\n",
    "\n",
    "# Uncomment to save figure.\n",
    "# plt.savefig(\"anomalies_types_grades.png\", bbox_inches=\"tight\")\n",
    "plt.show()"
   ]
  },
  {
   "cell_type": "code",
   "execution_count": null,
   "id": "0c6198d8",
   "metadata": {},
   "outputs": [],
   "source": [
    "# Bar plot of the number of unique anomalies per cable without duplicates\n",
    "img_data = df_anomalous[[\"cable_id\", \"identification\"]].drop_duplicates()\n",
    "img_data.groupby(\"cable_id\").size().plot.bar()\n",
    "plt.xticks(rotation=360)\n",
    "plt.ylabel(\"# of unique anomalies\")\n",
    "plt.title(\"# of anomalies per cable\")\n",
    "plt.show()"
   ]
  },
  {
   "cell_type": "code",
   "execution_count": null,
   "id": "24ec5f39",
   "metadata": {},
   "outputs": [],
   "source": [
    "# Bar plot of the number of unique anomalies per cable\n",
    "# Note that they can be some duplicates since a unique anomaly ID can have more than one type.\n",
    "img_data = df_anomalous[[\"identification\", \"anomaly_type\"]].drop_duplicates()\n",
    "img_data.groupby(\"anomaly_type\").size().plot.bar()\n",
    "plt.xticks(rotation=45)\n",
    "plt.ylabel(\"# of unique anomalies\")\n",
    "plt.title(\"# of anomalies per type\")\n",
    "plt.show()"
   ]
  },
  {
   "cell_type": "code",
   "execution_count": null,
   "id": "debe6530",
   "metadata": {},
   "outputs": [],
   "source": [
    "# Plot number of frames with \"x\" anomalies\n",
    "D = Counter([v for k, v in Counter(df_anomalous[\"image_path\"].tolist()).items()])\n",
    "keys = D.keys()\n",
    "values = D.values()\n",
    "plt.bar(keys, values)\n",
    "plt.ylabel(\"# of frames\")\n",
    "plt.xlabel(\"# of anomalies in the frame\")\n",
    "plt.title(\"# of frames with 'x' anomalies\")\n",
    "plt.show()"
   ]
  },
  {
   "cell_type": "code",
   "execution_count": null,
   "id": "8cc60ff3",
   "metadata": {},
   "outputs": [],
   "source": [
    "# Keep only frame \"localization\" informations and label index\n",
    "df = df[[\"image_path\", \"cable_id\", \"side_id\", \"pass_id\", \"frame_id\", \"label_index\"]].drop_duplicates()\n",
    "df = df.sort_values(by=[\"cable_id\", \"side_id\", \"pass_id\", \"frame_id\"])\n",
    "df.head()"
   ]
  },
  {
   "cell_type": "code",
   "execution_count": null,
   "id": "6bfc9eb8",
   "metadata": {},
   "outputs": [],
   "source": [
    "# Represent the frames sequence of label index per cable side pass\n",
    "groups = df.groupby([\"cable_id\", \"side_id\", \"pass_id\"])\n",
    "groups[\"label_index\"].apply(list)"
   ]
  },
  {
   "cell_type": "code",
   "execution_count": null,
   "id": "a829ad88",
   "metadata": {},
   "outputs": [],
   "source": [
    "# Plot the frames sequence of label index per cable side pass\n",
    "# The peaks represent anomalous frames\n",
    "labels = [f\"{i[0]}-{i[1]}0{i[2]}\" for i in list(groups.groups.keys())]\n",
    "colors = [\"tab:blue\"] * 3\n",
    "colors += [\"tab:orange\"] * 3\n",
    "colors += [\"tab:green\"] * 3\n",
    "colors += [\"tab:red\"] * 3\n",
    "colors += [\"tab:purple\"] * 3\n",
    "colors += [\"tab:brown\"] * 3\n",
    "\n",
    "plt.figure(figsize=(15, 7))\n",
    "labels_pos = []\n",
    "for idx, label in enumerate(labels):\n",
    "    y = np.array(groups[\"label_index\"].apply(list)[idx]) * 0.5 + idx\n",
    "    x = groups[\"frame_id\"].apply(list)[idx]\n",
    "    plt.plot(x, y, label=label, color=colors[idx])\n",
    "    labels_pos.append(0.25 + idx)\n",
    "\n",
    "blue_patch = mpatches.Patch(color=\"tab:blue\", label=\"C01-A\")\n",
    "orange_patch = mpatches.Patch(color=\"tab:orange\", label=\"C01-B\")\n",
    "green_patch = mpatches.Patch(color=\"tab:green\", label=\"C02-A\")\n",
    "red_patch = mpatches.Patch(color=\"tab:red\", label=\"C02-B\")\n",
    "violet_patch = mpatches.Patch(color=\"tab:purple\", label=\"C03-A\")\n",
    "brown_patch = mpatches.Patch(color=\"tab:brown\", label=\"C03-B\")\n",
    "plt.legend(handles=[blue_patch, orange_patch, green_patch, red_patch, violet_patch, brown_patch], title=\"Cable side ID\")\n",
    "\n",
    "plt.yticks(labels_pos, labels)\n",
    "plt.xlabel(\"Frame ID\")\n",
    "plt.show()"
   ]
  },
  {
   "cell_type": "code",
   "execution_count": null,
   "id": "e5431373",
   "metadata": {
    "tags": []
   },
   "outputs": [],
   "source": [
    "# For each anomaly identification\n",
    "# Plot the frames sequence of label index per cable side pass\n",
    "# The peaks represent anomalous frames\n",
    "df_ids = df_anomalous[[\"cable_id\", \"side_id\", \"pass_id\", \"frame_id\", \"identification\"]].drop_duplicates()\n",
    "for identification in sorted(df_ids[\"identification\"].unique()):\n",
    "    labels = [f\"{i[0]}-{i[1]}0{i[2]}\" for i in list(groups.groups.keys())]\n",
    "    colors = [\"tab:blue\"] * 3\n",
    "    colors += [\"tab:orange\"] * 3\n",
    "    colors += [\"tab:green\"] * 3\n",
    "    colors += [\"tab:red\"] * 3\n",
    "    colors += [\"tab:purple\"] * 3\n",
    "    colors += [\"tab:brown\"] * 3\n",
    "\n",
    "    plt.figure(figsize=(15, 7))\n",
    "    labels_pos = []\n",
    "    for idx, label in enumerate(labels):\n",
    "        y = np.array(groups[\"label_index\"].apply(list)[idx]) * 0.5 + idx\n",
    "        x = groups[\"frame_id\"].apply(list)[idx]\n",
    "        plt.plot(x, y, label=label, color=colors[idx])\n",
    "        labels_pos.append(0.25 + idx)\n",
    "\n",
    "        df_ids_ = df_ids[\n",
    "            (df_ids[\"cable_id\"] == label[:3]) & (df_ids[\"side_id\"] == label[4]) & (df_ids[\"pass_id\"] == int(label[6]))\n",
    "        ]\n",
    "\n",
    "        anomaly_id = list(df_ids_[df_ids_[\"identification\"] == identification][\"frame_id\"])\n",
    "        if anomaly_id:\n",
    "            plt.scatter(anomaly_id, [0.5 + idx] * len(anomaly_id), color=\"black\", alpha=0.3)\n",
    "\n",
    "    blue_patch = mpatches.Patch(color=\"tab:blue\", label=\"C01-A\")\n",
    "    orange_patch = mpatches.Patch(color=\"tab:orange\", label=\"C01-B\")\n",
    "    green_patch = mpatches.Patch(color=\"tab:green\", label=\"C02-A\")\n",
    "    red_patch = mpatches.Patch(color=\"tab:red\", label=\"C02-B\")\n",
    "    violet_patch = mpatches.Patch(color=\"tab:purple\", label=\"C03-A\")\n",
    "    brown_patch = mpatches.Patch(color=\"tab:brown\", label=\"C03-B\")\n",
    "    plt.legend(\n",
    "        handles=[blue_patch, orange_patch, green_patch, red_patch, violet_patch, brown_patch], title=\"Cable side ID\"\n",
    "    )\n",
    "\n",
    "    plt.yticks(labels_pos, labels)\n",
    "    plt.xlabel(\"Frame ID\")\n",
    "    plt.title(f\"Anomaly id: {identification}\")\n",
    "    plt.show()"
   ]
  }
 ],
 "metadata": {
  "celltoolbar": "Edit Metadata",
  "interpreter": {
   "hash": "af0e31e7e45eef38935a613daa90f60519f96ffba13115980b1970b2ddc2854e"
  },
  "kernelspec": {
   "display_name": "Python 3 (ipykernel)",
   "language": "python",
   "name": "python3"
  },
  "language_info": {
   "codemirror_mode": {
    "name": "ipython",
    "version": 3
   },
   "file_extension": ".py",
   "mimetype": "text/x-python",
   "name": "python",
   "nbconvert_exporter": "python",
   "pygments_lexer": "ipython3",
   "version": "3.10.11"
  }
 },
 "nbformat": 4,
 "nbformat_minor": 5
}
