{
 "cells": [
  {
   "cell_type": "code",
   "execution_count": null,
   "id": "66f69f5b-17e0-4047-941e-12f743cb830b",
   "metadata": {
    "tags": []
   },
   "outputs": [],
   "source": [
    "# Copyright (C) 2022 Mila - Institut québécois d'intelligence artificielle\n",
    "# SPDX-License-Identifier: Apache-2.0"
   ]
  },
  {
   "cell_type": "code",
   "execution_count": null,
   "id": "bd08589f-77d7-4865-989d-cf527354d109",
   "metadata": {
    "tags": []
   },
   "outputs": [],
   "source": [
    "# Anomaly viewer\n",
    "#\n",
    "# Notebook to visualize the original (\"raw\") dataset locally.\n",
    "#\n",
    "# Description of the anomaly viewer:\n",
    "# - Identification (scrolling menue): Select an anomaly given the anomaly identification.\n",
    "# - Image (scrolling menue): Select an image that contains the selected anomaly from\n",
    "#                            the list of images that contains the selected anomaly.\n",
    "# - The table shows the details of the anomaly present in selected image.\n",
    "# - The image shows the cable with the bounding box annotations of the anomalies present in the image."
   ]
  },
  {
   "cell_type": "code",
   "execution_count": null,
   "id": "786bdfb8",
   "metadata": {
    "tags": []
   },
   "outputs": [],
   "source": [
    "import sys"
   ]
  },
  {
   "cell_type": "code",
   "execution_count": null,
   "id": "7f68dbd5",
   "metadata": {
    "tags": []
   },
   "outputs": [],
   "source": [
    "import os\n",
    "\n",
    "import matplotlib.pyplot as plt\n",
    "import pandas as pd\n",
    "\n",
    "from IPython.display import display\n",
    "from ipywidgets import Box, VBox, widgets\n",
    "from PIL import Image, ImageDraw\n",
    "from preprocess_dataset import compute_polygon_coordinates"
   ]
  },
  {
   "cell_type": "code",
   "execution_count": null,
   "id": "98b5c590-4339-4b39-afef-7909392bce1d",
   "metadata": {
    "tags": []
   },
   "outputs": [],
   "source": [
    "# To adapt\n",
    "root_directory = os.environ[\"HOME\"]"
   ]
  },
  {
   "cell_type": "code",
   "execution_count": null,
   "id": "8e9c3bc2",
   "metadata": {
    "tags": []
   },
   "outputs": [],
   "source": [
    "data_path = os.path.join(root_directory, \"CableInspect-AD\")\n",
    "df = pd.read_csv(os.path.join(data_path, \"labels.csv\"))\n",
    "df.dropna(subset=[\"identification\"], inplace=True)"
   ]
  },
  {
   "cell_type": "code",
   "execution_count": null,
   "id": "4e278616",
   "metadata": {
    "tags": []
   },
   "outputs": [],
   "source": [
    "%matplotlib widget\n",
    "plt.ioff()\n",
    "fig = plt.figure(figsize=(8, 4), num=\"  \")\n",
    "plt.ion()\n",
    "\n",
    "# Anomaly selector\n",
    "anomaly_selector = widgets.Dropdown(options=sorted(df[\"identification\"].unique()), description=\"Identification: \")\n",
    "\n",
    "\n",
    "def change_anomaly_selector(*args):\n",
    "    \"\"\"Change anomaly selector.\"\"\"\n",
    "    dataframe_anomaly = df[df[\"identification\"] == args[0][\"new\"]]\n",
    "    img_selector.options = sorted(dataframe_anomaly[\"image_path\"].unique())\n",
    "\n",
    "\n",
    "anomaly_selector.observe(change_anomaly_selector, \"value\")\n",
    "\n",
    "# Image selector\n",
    "df_anomaly = df[df[\"identification\"] == anomaly_selector.value]\n",
    "img_selector = widgets.Dropdown(options=sorted(df_anomaly[\"image_path\"].unique()), description=\"Image: \")\n",
    "\n",
    "\n",
    "def enable_box(is_enabled, box):\n",
    "    \"\"\"Enable box.\n",
    "\n",
    "    Args:\n",
    "        is_enabled (bool): Whether or not to enable box.\n",
    "        box (VBox): VBox widget\n",
    "    \"\"\"\n",
    "    for c in box.children:\n",
    "        if isinstance(c, Box):\n",
    "            enable_box(is_enabled, c)\n",
    "        else:\n",
    "            c.disabled = not is_enabled\n",
    "\n",
    "\n",
    "def change_img_selector(*args):\n",
    "    \"\"\"Change image selector.\"\"\"\n",
    "    enable_box(False, final_box)\n",
    "    image_path = args[0][\"new\"]\n",
    "    image_info = df[df[\"image_path\"] == image_path]\n",
    "    # Update image\n",
    "    image = draw_annotated_image(image_path, image_info)\n",
    "    im.set_data(image)\n",
    "    # Update image meta-data\n",
    "    display_info(image_info)\n",
    "    enable_box(True, final_box)\n",
    "\n",
    "\n",
    "img_selector.observe(change_img_selector, \"value\")\n",
    "\n",
    "\n",
    "def draw_annotated_image(image_path, image_info):\n",
    "    \"\"\"Draw annotated image.\n",
    "\n",
    "    Args:\n",
    "        image_path (str): Image path.\n",
    "        image_info (pd.DataFrame): Dataframe containing image meta-data.\n",
    "\n",
    "    Returns:\n",
    "        image (PIL.Image): Annotated image.\n",
    "    \"\"\"\n",
    "    image = Image.open(os.path.join(data_path, image_path))\n",
    "    # Clear text\n",
    "    for text in plt.gca().texts:\n",
    "        text.set_visible(False)\n",
    "    # Draw image\n",
    "    draw = ImageDraw.Draw(image)\n",
    "    bbox_col = [\"bbox_x\", \"bbox_y\", \"bbox_width\", \"bbox_height\", \"bbox_rotation\"]\n",
    "    for _, row in image_info.iterrows():\n",
    "        identification = row[\"identification\"]\n",
    "        color = \"red\" if (identification == anomaly_selector.value) else \"blue\"\n",
    "        polygon = compute_polygon_coordinates(tuple(row[bbox_col]))\n",
    "        draw.polygon(xy=polygon, outline=color, fill=None, width=5)\n",
    "        plt.text(polygon[0][0], polygon[0][1] - 20, identification, color=color, fontsize=18)\n",
    "    return image\n",
    "\n",
    "\n",
    "# Pre load image\n",
    "img_path = img_selector.value\n",
    "img_info = df[df[\"image_path\"] == img_path]\n",
    "img = draw_annotated_image(img_path, img_info)\n",
    "im = plt.imshow(img)\n",
    "\n",
    "\n",
    "def display_info(image_info):\n",
    "    \"\"\"Display image info.\n",
    "\n",
    "    Args:\n",
    "        image_info (pd.DataFrame): Dataframe containing image meta-data.\n",
    "    \"\"\"\n",
    "    columns = [\"identification\", \"anomaly_type\", \"anomaly_grade\", \"cable_id\", \"side_id\", \"pass_id\"]\n",
    "    with info_out:\n",
    "        info_out.clear_output()\n",
    "        display(image_info[columns].sort_values(by=[\"identification\"]).style.hide(axis=\"index\"))\n",
    "\n",
    "\n",
    "# Pre load image meta-data\n",
    "info_out = widgets.Output()\n",
    "display_info(img_info)\n",
    "\n",
    "# Display everything\n",
    "controls_vbox = VBox([anomaly_selector, img_selector])\n",
    "display_vbox = VBox([info_out, fig.canvas])\n",
    "final_box = VBox([controls_vbox, display_vbox])\n",
    "display(final_box)"
   ]
  }
 ],
 "metadata": {
  "celltoolbar": "Edit Metadata",
  "interpreter": {
   "hash": "af0e31e7e45eef38935a613daa90f60519f96ffba13115980b1970b2ddc2854e"
  },
  "kernelspec": {
   "display_name": "Python 3 (ipykernel)",
   "language": "python",
   "name": "python3"
  },
  "language_info": {
   "codemirror_mode": {
    "name": "ipython",
    "version": 3
   },
   "file_extension": ".py",
   "mimetype": "text/x-python",
   "name": "python",
   "nbconvert_exporter": "python",
   "pygments_lexer": "ipython3",
   "version": "3.10.11"
  }
 },
 "nbformat": 4,
 "nbformat_minor": 5
}
