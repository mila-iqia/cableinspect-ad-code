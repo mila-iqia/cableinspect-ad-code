{
 "cells": [
  {
   "cell_type": "code",
   "execution_count": null,
   "metadata": {},
   "outputs": [],
   "source": [
    "# Copyright (C) 2024 Mila - Institut québécois d'intelligence artificielle\n",
    "# SPDX-License-Identifier: CC-BY-4.0"
   ]
  },
  {
   "cell_type": "code",
   "execution_count": null,
   "metadata": {},
   "outputs": [],
   "source": [
    "import glob\n",
    "import os\n",
    "import sys\n",
    "\n",
    "import pandas as pd\n",
    "from sklearn.metrics import auc, precision_recall_curve, roc_curve\n",
    "from sklearn.preprocessing import MinMaxScaler"
   ]
  },
  {
   "cell_type": "code",
   "execution_count": null,
   "metadata": {},
   "outputs": [],
   "source": [
    "# TODO update the correct path\n",
    "results_folder = \"results\"\n",
    "pred_file = os.path.join(results_folder, \"predictions.csv\")"
   ]
  },
  {
   "cell_type": "code",
   "execution_count": null,
   "metadata": {},
   "outputs": [],
   "source": [
    "pred_df = pd.read_csv(pred_file)\n",
    "pred_df"
   ]
  },
  {
   "cell_type": "code",
   "execution_count": null,
   "metadata": {},
   "outputs": [],
   "source": [
    "pred_df[\"anomaly_score\"] = pred_df[\"score\"].str.replace(\"tensor([\", \"\")\n",
    "pred_df[\"anomaly_score\"] = pred_df[\"anomaly_score\"].str.replace(\"])\", \"\")\n",
    "pred_df[\"anomaly_score\"] = pd.to_numeric(pred_df[\"anomaly_score\"], errors=\"coerce\")\n",
    "\n",
    "pred_df"
   ]
  },
  {
   "cell_type": "code",
   "execution_count": null,
   "metadata": {},
   "outputs": [],
   "source": [
    "kfold_labels = \"CableInspect-AD/kfold_labels\"\n",
    "cables = [\"C01\", \"C02\", \"C03\"]"
   ]
  },
  {
   "cell_type": "code",
   "execution_count": null,
   "metadata": {},
   "outputs": [],
   "source": [
    "def calculate_aupr(y_true, y_score):\n",
    "    precision, recall, _ = precision_recall_curve(y_true, y_score)\n",
    "    aupr = auc(recall, precision)\n",
    "    return aupr\n",
    "\n",
    "\n",
    "def calculate_auroc(y_true, y_score):\n",
    "    fpr, tpr, _ = roc_curve(y_true, y_score)\n",
    "    auroc = auc(fpr, tpr)\n",
    "    return auroc\n",
    "\n",
    "\n",
    "def generate_and_save_prediction_stats(val_predictions: list, run_name: str, test_predictions\n",
    ") -> None:\n",
    "    \"\"\"Generate prediction stats and save them using different thresholding techniques.\"\"\"\n",
    "    output_dir = os.path.join(results_folder, \"results\", run_name)\n",
    "\n",
    "    scaler = MinMaxScaler()\n",
    "    scaler.fit(val_predictions[[\"anomaly_score\"]])\n",
    "    val_predictions[\"normalized_anomaly_score\"] = scaler.transform(val_predictions[[\"anomaly_score\"]])\n",
    "    test_predictions[\"normalized_anomaly_score\"] = scaler.transform(test_predictions[[\"anomaly_score\"]])\n",
    "\n",
    "    aupr = calculate_aupr(\n",
    "        test_predictions[\"label_index\"].tolist(), test_predictions[\"normalized_anomaly_score\"].tolist()\n",
    "    )\n",
    "    auroc = calculate_auroc(\n",
    "        test_predictions[\"label_index\"].tolist(), test_predictions[\"normalized_anomaly_score\"].tolist()\n",
    "    )\n",
    "\n",
    "    indp_metrics = pd.DataFrame()\n",
    "    indp_metrics[\"AUPR\"] = [aupr]\n",
    "    indp_metrics[\"AUROC\"] = [auroc]\n",
    "    metrics_fname = os.path.join(output_dir, \"indp_metrics.csv\")\n",
    "    indp_metrics.to_csv(metrics_fname, index=False)\n"
   ]
  },
  {
   "cell_type": "code",
   "execution_count": null,
   "metadata": {},
   "outputs": [],
   "source": [
    "results_list = []\n",
    "for cable in cables:\n",
    "    labels = glob.glob(os.path.join(kfold_labels, cable) + \"/*\")\n",
    "    for label in labels:\n",
    "        print(label)\n",
    "        run_name = os.path.basename(label)[:-4]\n",
    "        label_df = pd.read_csv(label)\n",
    "        duplicates = label_df['image_path'].duplicated(keep=False)\n",
    "        label_df = label_df[~duplicates]\n",
    "        df_merged = pd.merge(pred_df, label_df, on=\"image_path\", how=\"inner\")\n",
    "        train_preds = df_merged[(df_merged[\"split\"] == \"train\")]\n",
    "        test_preds = df_merged[(df_merged[\"split\"] == \"test\")]\n",
    "\n",
    "        generate_and_save_prediction_stats(train_preds, run_name, test_preds)"
   ]
  },
  {
   "cell_type": "code",
   "execution_count": null,
   "metadata": {},
   "outputs": [],
   "source": [
    "results_stats_folder = os.path.join(results_folder, \"results\")"
   ]
  },
  {
   "cell_type": "code",
   "execution_count": null,
   "metadata": {},
   "outputs": [],
   "source": [
    "aggregated_results = pd.DataFrame()\n",
    "for cable in cables:\n",
    "    cable_results_files = glob.glob(results_stats_folder + f\"/label_cable-{cable}_anomaly_id*\")\n",
    "    cable_results_df = pd.DataFrame()\n",
    "    for cable_file in cable_results_files:\n",
    "        results = pd.read_csv(os.path.join(cable_file, \"indp_metrics.csv\"))\n",
    "        cable_results_df = pd.concat([cable_results_df, results], axis=0)\n",
    "\n",
    "    cable_results_df.to_csv(os.path.join(results_stats_folder, f\"{cable}_aggregated_results.csv\"), index=False)\n",
    "cable_results_df"
   ]
  },
  {
   "cell_type": "code",
   "execution_count": null,
   "metadata": {},
   "outputs": [],
   "source": [
    "all_results = pd.DataFrame()\n",
    "for cable in cables:\n",
    "    cable_df = pd.read_csv(os.path.join(results_stats_folder, f\"{cable}_aggregated_results.csv\"))\n",
    "    cable_df[\"cable\"] = cable\n",
    "    all_results = pd.concat([cable_df, all_results], axis=0)"
   ]
  },
  {
   "cell_type": "code",
   "execution_count": null,
   "metadata": {},
   "outputs": [],
   "source": [
    "all_results"
   ]
  },
  {
   "cell_type": "code",
   "execution_count": null,
   "metadata": {},
   "outputs": [],
   "source": [
    "all_results[\"AUROC\"].agg([\"mean\", \"std\"]).round(2)"
   ]
  }
 ],
 "metadata": {
  "kernelspec": {
   "display_name": "anomalib_winclip",
   "language": "python",
   "name": "python3"
  },
  "language_info": {
   "codemirror_mode": {
    "name": "ipython",
    "version": 3
   },
   "file_extension": ".py",
   "mimetype": "text/x-python",
   "name": "python",
   "nbconvert_exporter": "python",
   "pygments_lexer": "ipython3",
   "version": "3.10.14"
  }
 },
 "nbformat": 4,
 "nbformat_minor": 2
}
