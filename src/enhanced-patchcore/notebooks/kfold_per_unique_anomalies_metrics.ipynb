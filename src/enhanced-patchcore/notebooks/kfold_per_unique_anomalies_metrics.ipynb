{
 "cells": [
  {
   "cell_type": "code",
   "execution_count": null,
   "id": "78bbf9c7-4abb-4ff2-9eef-0a5ca9812796",
   "metadata": {},
   "outputs": [],
   "source": [
    "# Copyright (C) 2022 Mila - Institut québécois d'intelligence artificielle\n",
    "# SPDX-License-Identifier: Apache-2.0"
   ]
  },
  {
   "cell_type": "code",
   "execution_count": null,
   "id": "39db169d-183a-4f35-8cf7-5b4bc6648f1f",
   "metadata": {},
   "outputs": [],
   "source": [
    "# This notebook permits to visualize the metrics per unique anomalies."
   ]
  },
  {
   "cell_type": "code",
   "execution_count": null,
   "id": "27efc464-5a94-4076-a016-3f863afc0d4e",
   "metadata": {},
   "outputs": [],
   "source": [
    "import glob\n",
    "import os\n",
    "import sys\n",
    "\n",
    "import pandas as pd\n",
    "\n",
    "sys.path.append(\"../\")\n",
    "from utils import compute_metrics, plot_distribution_per_group\n",
    "\n",
    "%matplotlib inline"
   ]
  },
  {
   "cell_type": "code",
   "execution_count": null,
   "id": "f3888e2d-0ccc-4485-aff7-a5ac29ea9c69",
   "metadata": {},
   "outputs": [],
   "source": [
    "# To adapt\n",
    "root_directory = os.path.join(os.environ[\"HOME\"])"
   ]
  },
  {
   "cell_type": "code",
   "execution_count": null,
   "id": "304164d6-ccdd-4a3f-8139-349c8c84cd75",
   "metadata": {},
   "outputs": [],
   "source": [
    "cables = [\"C01\", \"C02\", \"C03\"]\n",
    "metrics_lst = [\"F1Score\", \"Precision\", \"Recall\", \"AUPR\"]\n",
    "metrics_dict = {cable: {k: [] for k in metrics_lst} for cable in cables}\n",
    "for cable in cables:\n",
    "    experiment_directory = os.path.join(root_directory, f\"results/patchcore/hq/hq_kfold_unsupervised_{cable}\")\n",
    "    runs_directories = glob.glob(f\"{experiment_directory}/*/\")\n",
    "    for run_directory in runs_directories:\n",
    "        # Load predictions\n",
    "        predictions_fname = os.path.join(run_directory, \"test_identification_predictions.csv\")\n",
    "        if not os.path.isfile(predictions_fname):\n",
    "            print(f\"Broken run: {run_directory}\")\n",
    "            continue\n",
    "        predictions = pd.read_csv(predictions_fname)\n",
    "        # Get image threshold\n",
    "        normalization_stats = pd.read_csv(os.path.join(run_directory, \"normalization_stats.csv\"))\n",
    "        image_threshold = round(normalization_stats[\"image_threshold\"].values[0], 6)\n",
    "        # Compute metrics per unique anomaly\n",
    "        scores = compute_metrics(\n",
    "            predictions[\"target\"],\n",
    "            predictions[\"anomaly_score\"],\n",
    "            image_threshold,\n",
    "            metrics_lst,\n",
    "        )\n",
    "        for k, v in zip(metrics_lst, scores):\n",
    "            metrics_dict[cable][k].append(v)"
   ]
  },
  {
   "cell_type": "code",
   "execution_count": null,
   "id": "20ee0723-92a9-4beb-8bbc-60a9ddab93eb",
   "metadata": {},
   "outputs": [],
   "source": [
    "df = None\n",
    "cables = sorted(metrics_dict.keys())\n",
    "for cable in cables:\n",
    "    if df is None:\n",
    "        df = pd.DataFrame(metrics_dict[cable])\n",
    "        df[\"cable\"] = cable\n",
    "    else:\n",
    "        temp_df = pd.DataFrame(metrics_dict[cable])\n",
    "        temp_df[\"cable\"] = cable\n",
    "        df = pd.concat([df, temp_df], ignore_index=True)"
   ]
  },
  {
   "cell_type": "code",
   "execution_count": null,
   "id": "1c734a62-4daa-4c79-a078-6af45a732be4",
   "metadata": {},
   "outputs": [],
   "source": [
    "mapping_cable = {\"C01\": \"Cable 1\", \"C02\": \"Cable 2\", \"C03\": \"Cable 3\"}\n",
    "df[\"cable\"].replace(mapping_cable, inplace=True)"
   ]
  },
  {
   "cell_type": "code",
   "execution_count": null,
   "id": "9f740beb-696d-458b-b1b6-930e681c3514",
   "metadata": {},
   "outputs": [],
   "source": [
    "# Metrics ID level test set (multiple folds)\n",
    "# Possible options: \"F1Score\", \"Precision\", \"Recall\", \"AUPR\"\n",
    "metric = \"Recall\"\n",
    "ylim = {\"ymax\": 1.0, \"ymin\": 0.6}\n",
    "plot_distribution_per_group(\n",
    "    df,\n",
    "    \"cable\",\n",
    "    [metric],\n",
    "    \"\",  # \"Cable ID (# of folds)\"\n",
    "    metric,\n",
    "    title=\"\",  # f\"{metric} ID level test set (multiple folds)\"\n",
    "    ylim=ylim,\n",
    ")"
   ]
  }
 ],
 "metadata": {
  "kernelspec": {
   "display_name": "Python 3 (ipykernel)",
   "language": "python",
   "name": "python3"
  },
  "language_info": {
   "codemirror_mode": {
    "name": "ipython",
    "version": 3
   },
   "file_extension": ".py",
   "mimetype": "text/x-python",
   "name": "python",
   "nbconvert_exporter": "python",
   "pygments_lexer": "ipython3",
   "version": "3.10.11"
  }
 },
 "nbformat": 4,
 "nbformat_minor": 5
}
