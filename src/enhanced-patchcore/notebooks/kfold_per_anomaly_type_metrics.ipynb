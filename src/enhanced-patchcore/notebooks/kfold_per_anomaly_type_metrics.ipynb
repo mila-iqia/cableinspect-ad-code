{
 "cells": [
  {
   "cell_type": "code",
   "execution_count": null,
   "id": "4e42e099",
   "metadata": {
    "tags": []
   },
   "outputs": [],
   "source": [
    "# Copyright (C) 2024 Mila - Institut québécois d'intelligence artificielle\n",
    "# SPDX-License-Identifier: Apache-2.0"
   ]
  },
  {
   "cell_type": "code",
   "execution_count": null,
   "id": "246c2169-b87a-4d0c-97ca-c95f52d2d913",
   "metadata": {},
   "outputs": [],
   "source": [
    "# This notebook permits to visualize the metrics per anomaly types."
   ]
  },
  {
   "cell_type": "code",
   "execution_count": null,
   "id": "0fbbbc73-4dce-4214-b40a-fc95b18262c4",
   "metadata": {},
   "outputs": [],
   "source": [
    "import os\n",
    "import sys\n",
    "import glob\n",
    "\n",
    "import pandas as pd\n",
    "\n",
    "sys.path.append(\"../\")\n",
    "from utils import compute_metrics_per_anomaly_types, plot_distribution_per_group\n",
    "\n",
    "%matplotlib inline"
   ]
  },
  {
   "cell_type": "code",
   "execution_count": null,
   "id": "b6c708bf-10b5-4d91-8642-03ce27d231bd",
   "metadata": {},
   "outputs": [],
   "source": [
    "# To adapt\n",
    "root_directory = os.path.join(os.environ[\"HOME\"])\n",
    "cable = \"C01\""
   ]
  },
  {
   "cell_type": "code",
   "execution_count": null,
   "id": "3b1f09f9",
   "metadata": {
    "tags": []
   },
   "outputs": [],
   "source": [
    "data_directory = os.path.join(root_directory, \"hq/preprocess_data/tight_crop\")\n",
    "experiment_directory = os.path.join(root_directory, f\"results/patchcore/hq/hq_kfold_unsupervised_{cable}\")\n",
    "runs_directories = glob.glob(f\"{experiment_directory}/*/\")"
   ]
  },
  {
   "cell_type": "code",
   "execution_count": null,
   "id": "93246a1e",
   "metadata": {
    "tags": []
   },
   "outputs": [],
   "source": [
    "# Load and pre-process labels\n",
    "labels = pd.read_csv(os.path.join(data_directory, \"labels.csv\"))\n",
    "labels[\"anomaly_types\"] = labels[\"anomaly_type\"].fillna(\"good\") + \" \" + labels[\"anomaly_grade\"].fillna(\"\")\n",
    "labels[\"anomaly_types\"].replace(\"good \", \"good\", inplace=True)\n",
    "labels[\"identification\"] = labels[\"identification\"].fillna(\"good\")\n",
    "column_names = [\"image_path\", \"frame_id\", \"anomaly_types\", \"identification\"]\n",
    "labels = labels[column_names]"
   ]
  },
  {
   "cell_type": "code",
   "execution_count": null,
   "id": "cf466b35",
   "metadata": {
    "tags": []
   },
   "outputs": [],
   "source": [
    "metrics_dict = {}\n",
    "for run_directory in runs_directories:\n",
    "    # Load predictions\n",
    "    predictions_fname = os.path.join(run_directory, \"test_image_predictions.csv\")\n",
    "    if not os.path.isfile(predictions_fname):\n",
    "        print(f\"Broken run: {run_directory}\")\n",
    "        continue\n",
    "    predictions = pd.read_csv(predictions_fname)\n",
    "    # Add labels to prediction\n",
    "    predictions = predictions.merge(labels, on=\"image_path\", how=\"left\")\n",
    "    # Get image threshold\n",
    "    normalization_stats = pd.read_csv(os.path.join(run_directory, \"normalization_stats.csv\"))\n",
    "    image_threshold = round(normalization_stats[\"image_threshold\"].values[0], 6)\n",
    "    # Compute metrics per anomaly types\n",
    "    # metrics_dict is updated inplace in the method.\n",
    "    metrics_dict = compute_metrics_per_anomaly_types(predictions, image_threshold, metrics_dict)"
   ]
  },
  {
   "cell_type": "code",
   "execution_count": null,
   "id": "da37984e",
   "metadata": {
    "tags": []
   },
   "outputs": [],
   "source": [
    "df = None\n",
    "anomaly_types = sorted(metrics_dict.keys())\n",
    "for anomaly_type in anomaly_types:\n",
    "    if df is None:\n",
    "        df = pd.DataFrame(metrics_dict[anomaly_type])\n",
    "        df[\"anomaly_type\"] = anomaly_type\n",
    "    else:\n",
    "        temp_df = pd.DataFrame(metrics_dict[anomaly_type])\n",
    "        temp_df[\"anomaly_type\"] = anomaly_type\n",
    "        df = pd.concat([df, temp_df], ignore_index=True)"
   ]
  },
  {
   "cell_type": "code",
   "execution_count": null,
   "id": "1a3cb638",
   "metadata": {
    "tags": []
   },
   "outputs": [],
   "source": [
    "# Test set (multiple folds)\n",
    "# Metrics per anomaly type\n",
    "# Possible options: \"F1Score\", \"Precision\", \"Recall\", \"AUPR\"\n",
    "metric = \"Recall\"\n",
    "plot_distribution_per_group(\n",
    "    df,\n",
    "    \"anomaly_type\",\n",
    "    [metric],\n",
    "    \"Anomaly types (# of folds)\",\n",
    "    metric,\n",
    "    title=\"\",  # f\"Cable {cable[-1]} test set (multiple folds)\\n{metric} per anomaly type\"\n",
    ")"
   ]
  }
 ],
 "metadata": {
  "kernelspec": {
   "display_name": "Python 3 (ipykernel)",
   "language": "python",
   "name": "python3"
  },
  "language_info": {
   "codemirror_mode": {
    "name": "ipython",
    "version": 3
   },
   "file_extension": ".py",
   "mimetype": "text/x-python",
   "name": "python",
   "nbconvert_exporter": "python",
   "pygments_lexer": "ipython3",
   "version": "3.10.11"
  }
 },
 "nbformat": 4,
 "nbformat_minor": 5
}
