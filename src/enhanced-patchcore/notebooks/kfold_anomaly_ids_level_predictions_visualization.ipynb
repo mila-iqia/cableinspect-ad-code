{
 "cells": [
  {
   "cell_type": "code",
   "execution_count": null,
   "id": "4e42e099",
   "metadata": {
    "tags": []
   },
   "outputs": [],
   "source": [
    "# Copyright (C) 2024 Mila - Institut québécois d'intelligence artificielle\n",
    "# SPDX-License-Identifier: Apache-2.0"
   ]
  },
  {
   "cell_type": "code",
   "execution_count": null,
   "id": "9b937c78-1ff1-4358-b283-ceacab7f4787",
   "metadata": {},
   "outputs": [],
   "source": [
    "# This notebook permits to visualize the ID level predictions of all runs in a kfold experiment."
   ]
  },
  {
   "cell_type": "code",
   "execution_count": null,
   "id": "c554bf91-2779-4f1d-b26c-5f82a255f082",
   "metadata": {},
   "outputs": [],
   "source": [
    "import os\n",
    "import glob\n",
    "\n",
    "import matplotlib.pyplot as plt\n",
    "import pandas as pd\n",
    "\n",
    "%matplotlib inline"
   ]
  },
  {
   "cell_type": "code",
   "execution_count": null,
   "id": "3b1f09f9",
   "metadata": {
    "tags": []
   },
   "outputs": [],
   "source": [
    "# To adapt\n",
    "cable = \"C01\"\n",
    "root_directory = os.environ[\"HOME\"]\n",
    "experiment_directory = os.path.join(root_directory, f\"results/patchcore/hq/hq_kfold_unsupervised_{cable}\")"
   ]
  },
  {
   "cell_type": "code",
   "execution_count": null,
   "id": "7968ba02-0fd3-43cd-93bf-e3184e42f96a",
   "metadata": {},
   "outputs": [],
   "source": [
    "# Get all runs directory\n",
    "runs_directories = glob.glob(f\"{experiment_directory}/*/\")\n",
    "print(f\"# runs: {len(runs_directories)}\")"
   ]
  },
  {
   "cell_type": "code",
   "execution_count": null,
   "id": "3078de84-62ee-4089-8c0a-6457c82fa5ac",
   "metadata": {},
   "outputs": [],
   "source": [
    "predictions_all = None\n",
    "for run_directory in runs_directories:\n",
    "    # Load anomaly IDs level predictions\n",
    "    predictions_fname = os.path.join(run_directory, \"test_identification_predictions.csv\")\n",
    "    if not os.path.isfile(predictions_fname):\n",
    "        print(f\"Broken run: {run_directory}\")\n",
    "        continue\n",
    "    predictions = pd.read_csv(predictions_fname)\n",
    "    if predictions_all is None:\n",
    "        predictions_all = predictions\n",
    "    else:\n",
    "        predictions_all = pd.concat([predictions_all, predictions], ignore_index=True)"
   ]
  },
  {
   "cell_type": "code",
   "execution_count": null,
   "id": "94c0b144",
   "metadata": {
    "tags": []
   },
   "outputs": [],
   "source": [
    "predictions_all.replace({\"predictions\": {0: \"Nominal\", 1: \"Anomalous\"}}, inplace=True)\n",
    "color_map = {\"Nominal\": \"tab:blue\", \"Anomalous\": \"tab:orange\"}"
   ]
  },
  {
   "cell_type": "code",
   "execution_count": null,
   "id": "f796c019",
   "metadata": {
    "tags": []
   },
   "outputs": [],
   "source": [
    "# Cable unique anomaly predictions\n",
    "# Remove nominal predictions\n",
    "fontsize = 22\n",
    "anomalies_predictions_all = predictions_all[predictions_all[\"identification\"] != \"good\"]\n",
    "df_groups = anomalies_predictions_all.groupby([\"identification\", \"predictions\"]).size()\n",
    "anomaly_groups = df_groups.unstack()\n",
    "ax = anomaly_groups.plot(\n",
    "    figsize=(20, 5),\n",
    "    kind=\"bar\",\n",
    "    stacked=True,\n",
    "    color=color_map,\n",
    "    fontsize=19,\n",
    ")\n",
    "# Ticks and label\n",
    "plt.xlabel(\"Identification\", fontsize=fontsize)\n",
    "plt.ylabel(\"# of folds\", fontsize=fontsize)\n",
    "plt.yticks(fontsize=fontsize)\n",
    "# Grid\n",
    "plt.minorticks_on()\n",
    "plt.grid(axis=\"y\", which=\"major\", linestyle=\"-\", linewidth=\"0.5\", color=\"black\")\n",
    "plt.grid(axis=\"y\", which=\"minor\", linestyle=\":\", linewidth=\"0.5\", color=\"black\")\n",
    "# Legend\n",
    "handles_, labels_ = ax.get_legend_handles_labels()\n",
    "ax.legend(\n",
    "    handles_[::-1], labels_[::-1], title=\"Predictions:\", loc=\"lower right\", fontsize=fontsize, title_fontsize=fontsize\n",
    ")\n",
    "# plt.title(f\"Cable {cable[-1]} unique anomaly predictions\")\n",
    "plt.show()"
   ]
  }
 ],
 "metadata": {
  "kernelspec": {
   "display_name": "Python 3 (ipykernel)",
   "language": "python",
   "name": "python3"
  },
  "language_info": {
   "codemirror_mode": {
    "name": "ipython",
    "version": 3
   },
   "file_extension": ".py",
   "mimetype": "text/x-python",
   "name": "python",
   "nbconvert_exporter": "python",
   "pygments_lexer": "ipython3",
   "version": "3.10.11"
  }
 },
 "nbformat": 4,
 "nbformat_minor": 5
}
