{
 "cells": [
  {
   "cell_type": "code",
   "execution_count": null,
   "id": "09efa75c",
   "metadata": {},
   "outputs": [],
   "source": [
    "# Copyright (C) 2022 Mila - Institut québécois d'intelligence artificielle\n",
    "# SPDX-License-Identifier: Apache-2.0"
   ]
  },
  {
   "cell_type": "code",
   "execution_count": null,
   "id": "fdfb0782",
   "metadata": {},
   "outputs": [],
   "source": [
    "# This notebook permits to visualize the aggregated predictions\n",
    "# and statistics for unsupervised k-fold experiments."
   ]
  },
  {
   "cell_type": "code",
   "execution_count": null,
   "id": "a7b95e6f",
   "metadata": {},
   "outputs": [],
   "source": [
    "from __future__ import annotations\n",
    "\n",
    "import os\n",
    "import sys\n",
    "\n",
    "import numpy as np\n",
    "import pandas as pd\n",
    "import plotly.express as px\n",
    "import plotly.graph_objects as go\n",
    "\n",
    "sys.path.append(\"../\")\n",
    "from utils import plot_distribution_per_group\n",
    "\n",
    "%matplotlib inline"
   ]
  },
  {
   "cell_type": "code",
   "execution_count": null,
   "id": "47ed69d2",
   "metadata": {},
   "outputs": [],
   "source": [
    "# To adapt\n",
    "root = os.path.join(os.environ[\"HOME\"], \"results\")\n",
    "# Experiment name without the cable id\n",
    "experiment_name = \"hq_kfold_unsupervised\"\n",
    "threshold_strategy = \"max\"  # \"max\", \"beta_prime\", \"empirical\", \"whisker\""
   ]
  },
  {
   "cell_type": "code",
   "execution_count": null,
   "id": "6ea3f232",
   "metadata": {},
   "outputs": [],
   "source": [
    "cables = [\"C01\", \"C02\", \"C03\"]\n",
    "results = None\n",
    "for cable in cables:\n",
    "    results_fname = f\"patchcore/hq/{experiment_name}_{cable}/aggregated_results.csv\"\n",
    "    if results is None:\n",
    "        results = pd.read_csv(os.path.join(root, results_fname))\n",
    "    else:\n",
    "        temp_results = pd.read_csv(os.path.join(root, results_fname))\n",
    "        results = pd.concat([results, temp_results], ignore_index=True)"
   ]
  },
  {
   "cell_type": "code",
   "execution_count": null,
   "id": "8ff1dce5",
   "metadata": {},
   "outputs": [],
   "source": [
    "# Remove columns with unique values\n",
    "for col in results.columns:\n",
    "    if len(results[col].unique()) == 1:\n",
    "        print(f\"Delete {col}: {results[col].unique()}\")\n",
    "        results.drop(col, inplace=True, axis=1)"
   ]
  },
  {
   "cell_type": "code",
   "execution_count": null,
   "id": "d358c79e-010d-4b9a-8fc3-620854962f42",
   "metadata": {},
   "outputs": [],
   "source": [
    "# Post process results\n",
    "new_column_names = {\n",
    "    \"dataset.split_mode.cable\": \"cable_id\",\n",
    "    \"dataset.split_mode.anomaly_group_id\": \"anomaly_group_id\",\n",
    "}\n",
    "results.rename(columns=new_column_names, inplace=True)\n",
    "results[\"run_name\"] = results[\"project.path\"].str.split(\"/\", expand=True)[9]\n",
    "mapping_cable = {\"C01\": \"Cable 1\", \"C02\": \"Cable 2\", \"C03\": \"Cable 3\"}\n",
    "results[\"cable_id\"].replace(mapping_cable, inplace=True)"
   ]
  },
  {
   "cell_type": "code",
   "execution_count": null,
   "id": "16392d17",
   "metadata": {},
   "outputs": [],
   "source": [
    "nrow, ncol = results.shape\n",
    "print(f\"# rows: {nrow}, # columns: {ncol}\")"
   ]
  },
  {
   "cell_type": "code",
   "execution_count": null,
   "id": "cb3cccc7",
   "metadata": {},
   "outputs": [],
   "source": [
    "results.head()"
   ]
  },
  {
   "cell_type": "code",
   "execution_count": null,
   "id": "508fd980",
   "metadata": {},
   "outputs": [],
   "source": [
    "# Show best and worst runs per cable based on the metric\n",
    "metric = \"AUPR\"  # To adapt\n",
    "cables = results[\"cable_id\"].unique()\n",
    "for cable in cables:\n",
    "    # Groups stats\n",
    "    cable_results = results[results[\"cable_id\"] == cable]\n",
    "    nb_anomaly_group = cable_results[\"anomaly_group_id\"].nunique()\n",
    "    print(f\"Cable {cable} # of unique anomaly group ID: {nb_anomaly_group}\")\n",
    "    # Best run\n",
    "    if threshold_strategy == \"max\":\n",
    "        selected_metric = f\"test_image_{metric}\"\n",
    "    else:\n",
    "        selected_metric = f\"test_image_{threshold_strategy}_{metric}\"\n",
    "    max_metric = cable_results[selected_metric].max()\n",
    "    best_cond = cable_results[selected_metric] == max_metric\n",
    "    best_run = cable_results[best_cond]\n",
    "    run_name = best_run[\"run_name\"].values[0]\n",
    "    print(f\"Best run {selected_metric}: {round(max_metric, 2)} - {run_name}\")\n",
    "    # Worst run\n",
    "    min_metric = cable_results[selected_metric].min()\n",
    "    worst_cond = cable_results[selected_metric] == min_metric\n",
    "    worst_run = cable_results[worst_cond]\n",
    "    run_name = worst_run[\"run_name\"].values[0]\n",
    "    print(f\"Worst run {selected_metric}: {round(min_metric, 2)} - {run_name}\\n\")"
   ]
  },
  {
   "cell_type": "code",
   "execution_count": null,
   "id": "49a0560b",
   "metadata": {},
   "outputs": [],
   "source": [
    "# Image threshold validation set (multiple folds)\n",
    "threshold_col = f\"validation_{threshold_strategy}\"\n",
    "plot_distribution_per_group(\n",
    "    results,\n",
    "    \"cable_id\",\n",
    "    [threshold_col],\n",
    "    \"\",  # \"Cable ID (# of folds)\"\n",
    "    ylabel=\"Image threshold\",\n",
    "    title=\"\",  # \"Image threshold validation set (multiple folds)\"\n",
    ")"
   ]
  },
  {
   "cell_type": "code",
   "execution_count": null,
   "id": "41cb7472",
   "metadata": {},
   "outputs": [],
   "source": [
    "# Image scores min/max anomaly score (multiple folds)\n",
    "stats = [\"min\", \"max\"]\n",
    "for stat in stats:\n",
    "    plot_distribution_per_group(\n",
    "        results,\n",
    "        \"cable_id\",\n",
    "        [f\"validation_image_{stat}\", f\"test_image_{stat}\"],\n",
    "        \"\",  # \"Cable ID (# of folds)\"\n",
    "        f\"Image {stat} anomaly score\",\n",
    "        title=\"\",  # f\"Image {stat} anomaly score (multiple folds)\"\n",
    "    )"
   ]
  },
  {
   "cell_type": "code",
   "execution_count": null,
   "id": "8b9c54ef",
   "metadata": {},
   "outputs": [],
   "source": [
    "# Metrics test set (multiple folds)\n",
    "# Options: \"F1Score\", \"Precision\", \"Recall\", \"FPR\", \"AUPR\", \"AUROC\"\n",
    "metric = \"AUPR\"\n",
    "metric_col = f\"test_image_{threshold_strategy}_{metric}\"\n",
    "ylim = {\"ymax\": 1.0, \"ymin\": 0.0}  # To adapt\n",
    "plot_distribution_per_group(\n",
    "    results,\n",
    "    \"cable_id\",\n",
    "    [metric_col],\n",
    "    \"\",  # \"Cable ID (# of folds)\"\n",
    "    metric,\n",
    "    title=\"\",  # f\"{metric} test set (multiple folds)\"\n",
    "    ylim=ylim,\n",
    ")"
   ]
  },
  {
   "cell_type": "code",
   "execution_count": null,
   "id": "bac09add-17c1-4343-8e80-77a05bfefd83",
   "metadata": {
    "tags": []
   },
   "outputs": [],
   "source": [
    "# Precision vs. Recall\n",
    "prec_col = f\"test_image_{threshold_strategy}_Precision\"\n",
    "rec_col = f\"test_image_{threshold_strategy}_Recall\"\n",
    "\n",
    "labels = {\n",
    "    prec_col: \"Precision\",\n",
    "    rec_col: \"Recall\",\n",
    "    \"cable_id\": \"\",\n",
    "}\n",
    "\n",
    "fig = px.scatter(\n",
    "    data_frame=results,\n",
    "    x=prec_col,\n",
    "    y=rec_col,\n",
    "    labels=labels,\n",
    "    range_x=[0.35, 1.03],\n",
    "    range_y=[0.35, 1.03],\n",
    "    color=\"cable_id\",\n",
    "    marginal_y=\"box\",\n",
    "    marginal_x=\"box\",\n",
    "    width=700,\n",
    "    height=700,\n",
    ")\n",
    "fig.update_layout(\n",
    "    font={\"size\": 22},\n",
    "    legend={\"xanchor\": \"right\", \"yanchor\": \"top\", \"x\": 0.98, \"y\": 0.96},\n",
    ")\n",
    "fig.update_traces(marker={\"size\": 10})\n",
    "fig.update_xaxes(\n",
    "    tickmode=\"array\",\n",
    "    tickvals=np.linspace(0.4, 1.0, 7),\n",
    ")\n",
    "fig.show()"
   ]
  },
  {
   "cell_type": "code",
   "execution_count": null,
   "id": "ca67cded-7f6c-42f9-8fb3-1b9ca8f04f61",
   "metadata": {},
   "outputs": [],
   "source": [
    "# Compare threshold or FPR for different thresholding strategies\n",
    "# To adapt:\n",
    "variable = \"Image threshold\"  # Options: \"Image threshold\", \"FPR\"\n",
    "\n",
    "fig = go.Figure()\n",
    "\n",
    "colors = px.colors.qualitative.Plotly\n",
    "\n",
    "labels = {\n",
    "    \"max\": \"max\",\n",
    "    \"beta_prime\": \"beta-prime95\",\n",
    "    \"empirical\": \"empirical95\",\n",
    "    \"whisker\": \"boxplot outliers\",\n",
    "}\n",
    "\n",
    "for idx, thr in enumerate([\"max\", \"beta_prime\", \"empirical\", \"whisker\"]):\n",
    "    # Defining x axis\n",
    "    x = results[\"cable_id\"].tolist()\n",
    "    if variable == \"Image threshold\":\n",
    "        y = results[f\"validation_{thr}\"].tolist()\n",
    "    elif variable == \"FPR\":\n",
    "        y = results[f\"test_image_{thr}_FPR\"].tolist()\n",
    "    else:\n",
    "        raise AttributeError(\"variable should be 'Image threshold' or 'FPR'.\")\n",
    "\n",
    "    fig.add_trace(\n",
    "        go.Box(\n",
    "            y=y,\n",
    "            x=x,\n",
    "            boxpoints=\"all\",\n",
    "            name=labels[thr],\n",
    "            marker_color=colors[idx],\n",
    "        )\n",
    "    )\n",
    "\n",
    "fig.update_layout(\n",
    "    yaxis_title=variable,\n",
    "    boxmode=\"group\",\n",
    "    boxgap=0.0,\n",
    "    boxgroupgap=0.5,\n",
    "    margin={\"l\": 0, \"r\": 0, \"b\": 0, \"pad\": 0},\n",
    "    font={\"size\": 30},\n",
    "    width=1300,\n",
    "    height=600,\n",
    "    legend={\"orientation\": \"h\", \"yanchor\": \"bottom\", \"xanchor\": \"right\", \"x\": 1, \"y\": 1.02},\n",
    ")\n",
    "fig.update_yaxes(showgrid=True, gridwidth=2, gridcolor=\"white\", minor_griddash=\"dot\")\n",
    "fig.update_xaxes(range=[-0.5, 2.47])\n",
    "fig.show()"
   ]
  }
 ],
 "metadata": {
  "kernelspec": {
   "display_name": "Python 3 (ipykernel)",
   "language": "python",
   "name": "python3"
  },
  "language_info": {
   "codemirror_mode": {
    "name": "ipython",
    "version": 3
   },
   "file_extension": ".py",
   "mimetype": "text/x-python",
   "name": "python",
   "nbconvert_exporter": "python",
   "pygments_lexer": "ipython3",
   "version": "3.10.11"
  }
 },
 "nbformat": 4,
 "nbformat_minor": 5
}
